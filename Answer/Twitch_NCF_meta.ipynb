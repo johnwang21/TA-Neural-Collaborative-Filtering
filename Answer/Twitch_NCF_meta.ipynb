{
  "nbformat": 4,
  "nbformat_minor": 0,
  "metadata": {
    "colab": {
      "provenance": [],
      "machine_shape": "hm"
    },
    "kernelspec": {
      "name": "python3",
      "display_name": "Python 3"
    },
    "language_info": {
      "name": "python"
    },
    "accelerator": "TPU",
    "gpuClass": "standard"
  },
  "cells": [
    {
      "cell_type": "code",
      "source": [
        "#https://github.com/keras-team/keras/releases\n",
        "!pip install q keras==2.11.0"
      ],
      "metadata": {
        "colab": {
          "base_uri": "https://localhost:8080/"
        },
        "id": "EfdCWf7H4d1i",
        "outputId": "fc84cbb2-a624-4403-9500-32c261afd8ed"
      },
      "execution_count": 1,
      "outputs": [
        {
          "output_type": "stream",
          "name": "stdout",
          "text": [
            "Looking in indexes: https://pypi.org/simple, https://us-python.pkg.dev/colab-wheels/public/simple/\n",
            "Collecting q\n",
            "  Downloading q-2.7-py2.py3-none-any.whl (10 kB)\n",
            "Requirement already satisfied: keras==2.11.0 in /usr/local/lib/python3.9/dist-packages (2.11.0)\n",
            "Installing collected packages: q\n",
            "Successfully installed q-2.7\n"
          ]
        }
      ]
    },
    {
      "cell_type": "code",
      "source": [
        "import pandas as pd\n",
        "import numpy as np\n",
        "from tqdm.notebook import tqdm\n",
        "from sklearn.model_selection import train_test_split\n",
        "import keras\n",
        "from keras import layers \n",
        "import tensorflow as tf\n",
        "from keras.models import Model\n",
        "from keras.optimizers import Adam, SGD"
      ],
      "metadata": {
        "id": "0riOOnaIIPyL"
      },
      "execution_count": 2,
      "outputs": []
    },
    {
      "cell_type": "code",
      "source": [
        "print(\"Tensorflow version \" + tf.__version__)\n",
        "np.random.seed(123)\n",
        "try:\n",
        "  tpu = tf.distribute.cluster_resolver.TPUClusterResolver()  # TPU detection\n",
        "  print('Running on TPU ', tpu.cluster_spec().as_dict()['worker'])\n",
        "except ValueError:\n",
        "  raise BaseException('ERROR: Not connected to a TPU runtime; please see the previous cell in this notebook for instructions!')\n",
        "\n",
        "tf.config.experimental_connect_to_cluster(tpu)\n",
        "tf.tpu.experimental.initialize_tpu_system(tpu)\n",
        "tpu_strategy = tf.distribute.experimental.TPUStrategy(tpu)"
      ],
      "metadata": {
        "colab": {
          "base_uri": "https://localhost:8080/"
        },
        "id": "1K3YPwY9YD5V",
        "outputId": "bf9eb6ff-e384-43bb-8783-942a5f57a18a"
      },
      "execution_count": 3,
      "outputs": [
        {
          "output_type": "stream",
          "name": "stdout",
          "text": [
            "Tensorflow version 2.11.0\n",
            "Running on TPU  ['10.116.147.50:8470']\n"
          ]
        },
        {
          "output_type": "stream",
          "name": "stderr",
          "text": [
            "WARNING:absl:`tf.distribute.experimental.TPUStrategy` is deprecated, please use  the non experimental symbol `tf.distribute.TPUStrategy` instead.\n"
          ]
        }
      ]
    },
    {
      "cell_type": "code",
      "source": [
        "# requires training and test data with metadata\n",
        "\n",
        "rating_df = pd.read_csv('meta_train.csv')\n",
        "rating_df = rating_df.rename(columns={'User':'u_id','ChannelName':'s_id','z_score_scaled':'rate'})\n",
        "rating_df.head()\n",
        "\n",
        "test_df = pd.read_csv('meta_test.csv')\n",
        "test_df = test_df.rename(columns={'User':'u_id','ChannelName':'s_id','z_score_scaled':'rate'})\n",
        "test_df.head()\n",
        "\n",
        "rating_df['Frequency'] = (rating_df['Frequency'] - rating_df['Frequency'].min()) / (rating_df['Frequency'].max() - rating_df['Frequency'].min())    \n",
        "rating_df['User_Deg'] = (rating_df['User_Deg'] - rating_df['User_Deg'].min()) / (rating_df['User_Deg'].max() - rating_df['User_Deg'].min())    \n",
        "rating_df['Channel_Deg'] = (rating_df['Channel_Deg'] - rating_df['Channel_Deg'].min()) / (rating_df['Channel_Deg'].max() - rating_df['Channel_Deg'].min())    \n",
        "\n",
        "test_df['Frequency'] = (test_df['Frequency'] - test_df['Frequency'].min()) / (test_df['Frequency'].max() - test_df['Frequency'].min())    \n",
        "test_df['User_Deg'] = (test_df['User_Deg'] - test_df['User_Deg'].min()) / (test_df['User_Deg'].max() - test_df['User_Deg'].min())    \n",
        "test_df['Channel_Deg'] = (test_df['Channel_Deg'] - test_df['Channel_Deg'].min()) / (test_df['Channel_Deg'].max() - test_df['Channel_Deg'].min())  \n",
        "rating_df.isnull().values.any()\n",
        "test_df.isnull().values.any()\n"
      ],
      "metadata": {
        "colab": {
          "base_uri": "https://localhost:8080/"
        },
        "id": "d7sw3eHgIQ7t",
        "outputId": "72ba08df-4565-4e90-e610-71c914917394"
      },
      "execution_count": 4,
      "outputs": [
        {
          "output_type": "execute_result",
          "data": {
            "text/plain": [
              "False"
            ]
          },
          "metadata": {},
          "execution_count": 4
        }
      ]
    },
    {
      "cell_type": "code",
      "source": [
        "# model requires a random seed\n",
        "rating_df = rating_df.sample(frac=1, random_state=73)\n",
        "rating_df.s_id = pd.Categorical(rating_df.s_id)\n",
        "rating_df['s_id'] = rating_df.s_id.cat.codes\n",
        "rating_df.dtypes\n",
        "X = rating_df[['u_id', 's_id','Frequency','User_Deg','Channel_Deg']].values #,\n",
        "y = rating_df[\"rate\"]\n",
        "\n",
        "test_df = test_df.sample(frac=1, random_state=73)\n",
        "test_df.s_id = pd.Categorical(test_df.s_id)\n",
        "test_df['s_id'] = test_df.s_id.cat.codes\n",
        "test_df.dtypes\n",
        "test_in_u = test_df['u_id'].values #,'Frequency','User_Deg','Channel_Deg'\n",
        "test_in_s = test_df['s_id'].values\n",
        "test_in_f = test_df['Frequency'].values\n",
        "test_in_ud = test_df['User_Deg'].values\n",
        "test_in_cd = test_df['Channel_Deg'].values\n",
        "test_rating = test_df[\"rate\"]"
      ],
      "metadata": {
        "id": "SL4Bs9o6iTuZ"
      },
      "execution_count": 5,
      "outputs": []
    },
    {
      "cell_type": "code",
      "source": [
        "# traing and validation split lifted from: https://www.kaggle.com/code/chaitanya99/recommendation-system-cf-anime\n",
        "test_set_size = 10000 #10k for test set\n",
        "train_indices = rating_df.shape[0] - test_set_size \n",
        "\n",
        "X_train, X_val, y_train, y_val = (\n",
        "    X[:train_indices],\n",
        "    X[train_indices:],\n",
        "    y[:train_indices],\n",
        "    y[train_indices:],\n",
        ")\n",
        "\n",
        "print('> Train set ratings: {}'.format(len(y_train)))\n",
        "print('> Test set ratings: {}'.format(len(y_val)))"
      ],
      "metadata": {
        "id": "x0qKtQswiWyZ",
        "outputId": "2dc350a7-01da-438e-89bb-7688970810e1",
        "colab": {
          "base_uri": "https://localhost:8080/"
        }
      },
      "execution_count": 6,
      "outputs": [
        {
          "output_type": "stream",
          "name": "stdout",
          "text": [
            "> Train set ratings: 1419900\n",
            "> Test set ratings: 10000\n"
          ]
        }
      ]
    },
    {
      "cell_type": "code",
      "source": [
        "X_train_array = [X_train[:, 0], X_train[:, 1],X_train[:, 2],X_train[:, 3],X_train[:, 4]]\n",
        "X_val_array = [X_val[:, 0], X_val[:, 1],X_val[:, 2],X_val[:, 3],X_val[:, 4]]"
      ],
      "metadata": {
        "id": "QyGHTM4NiYpx"
      },
      "execution_count": 7,
      "outputs": []
    },
    {
      "cell_type": "code",
      "source": [
        "#from: https://github.com/hexiangnan/neural_collaborative_filtering/blob/4aab159e81c44b062c091bdaed0ab54ac632371f/NeuMF.py#L158\n",
        "in_u_dim = len(rating_df[\"u_id\"].unique())\n",
        "in_s_dim = len(rating_df[\"s_id\"].unique())\n",
        " \n",
        "latent_out_dim = 8 #embedding size\n",
        "\n",
        "# Embedding(input_dim = num_items\n",
        "# num_users, num_items = train.shape\n",
        "# output_dim = mf_dim\n",
        "# mf = 10"
      ],
      "metadata": {
        "id": "YXucb6SOx8Dp"
      },
      "execution_count": 8,
      "outputs": []
    },
    {
      "cell_type": "code",
      "source": [
        "# Embedding layers\n",
        "from keras.layers import Add, Activation, Lambda, BatchNormalization, Concatenate, Dropout, Input, Embedding, Dot, Reshape, Dense, Flatten\n",
        "from keras import regularizers\n",
        "\n",
        "def ncf(): \n",
        "    \n",
        "    user_gmf = Input(name = 'u_in_gmf', shape = [1])\n",
        "    stream_gmf = Input(name = 's_in_gmf', shape = [1])\n",
        "    frequency_gmf = Input(name = 'f_in_gmf', shape = [1])\n",
        "    user_deg_gmf = Input(name = 'ud_in_gmf', shape = [1])\n",
        "    channel_deg_gmf = Input(name = 'cd_in_gmf', shape = [1])\n",
        "\n",
        "    user_embedding_gmf = Embedding(name = 'u_emb_gmf', embeddings_regularizer=regularizers.L2(0), input_dim = in_u_dim, output_dim = latent_out_dim)(user_gmf)\n",
        "    stream_embedding_gmf = Embedding(name = 's_emb_gmf', embeddings_regularizer=regularizers.L2(0), input_dim = in_s_dim, output_dim = latent_out_dim)(stream_gmf)\n",
        "    #meta-----------------------------------------------------------------------------------------------------------------\n",
        "    frequency_embedding_gmf = Embedding(name = 'f_emb_gmf', embeddings_regularizer=regularizers.L2(0), input_dim = in_u_dim, output_dim = latent_out_dim)(frequency_gmf)\n",
        "    user_deg_embedding_gmf = Embedding(name = 'ud_emb_gmf', embeddings_regularizer=regularizers.L2(0), input_dim = in_u_dim, output_dim = latent_out_dim)(user_deg_gmf)\n",
        "    channel_deg_embedding_gmf = Embedding(name = 'cd_emb_gmf', embeddings_regularizer=regularizers.L2(0), input_dim = in_u_dim, output_dim = latent_out_dim)(channel_deg_gmf)\n",
        "    #----------------------------------------------------------------------------------------------------------------------\n",
        "\n",
        "    x = tf.keras.layers.Multiply()([user_embedding_gmf, stream_embedding_gmf,frequency_embedding_gmf,user_deg_embedding_gmf,channel_deg_embedding_gmf])\n",
        "    x = Model(inputs=[user_gmf,stream_gmf,frequency_gmf,user_deg_gmf,channel_deg_gmf], outputs=x)\n",
        "\n",
        "\n",
        "    user_mlp = Input(name = 'u_in_mlp', shape = [1])\n",
        "    stream_mlp = Input(name = 's_in_mlp', shape = [1])\n",
        "    frequency_mlp = Input(name = 'f_in_mlp', shape = [1])\n",
        "    user_deg_mlp = Input(name = 'ud_in_mlp', shape = [1])\n",
        "    channel_deg_mlp = Input(name = 'cd_in_mlp', shape = [1])\n",
        "\n",
        "    user_embedding_mlp = Embedding(name = 'u_emb_mlp', embeddings_regularizer=regularizers.L2(0), input_dim = in_u_dim,output_dim = latent_out_dim)(user_mlp)\n",
        "    stream_embedding_mlp = Embedding(name = 's_emb_mlp', embeddings_regularizer=regularizers.L2(0), input_dim = in_s_dim, output_dim = latent_out_dim)(stream_mlp)\n",
        "    #meta-----------------------------------------------------------------------------------------------------------------\n",
        "    frequency_embedding_mlp = Embedding(name = 'f_emb_mlp', embeddings_regularizer=regularizers.L2(0), input_dim = in_u_dim, output_dim = latent_out_dim)(frequency_mlp)\n",
        "    user_deg_embedding_mlp = Embedding(name = 'ud_emb_mlp', embeddings_regularizer=regularizers.L2(0), input_dim = in_u_dim, output_dim = latent_out_dim)(user_deg_mlp)\n",
        "    channel_deg_embedding_mlp = Embedding(name = 'cd_emb_mlp', embeddings_regularizer=regularizers.L2(0), input_dim = in_u_dim, output_dim = latent_out_dim)(channel_deg_mlp)\n",
        "    #----------------------------------------------------------------------------------------------------------------------\n",
        "\n",
        "    y = tf.keras.layers.Concatenate()([user_embedding_mlp, stream_embedding_mlp,frequency_embedding_mlp,user_deg_embedding_mlp,channel_deg_embedding_mlp])\n",
        "    y = Flatten()(y)\n",
        "\n",
        "    y = keras.layers.Dense(64, activation='relu', kernel_regularizer=regularizers.L2(0))(y) \n",
        "    y = keras.layers.Dense(32, activation='relu', kernel_regularizer=regularizers.L2(0))(y) \n",
        "    y = keras.layers.Dense(16, activation='relu', kernel_regularizer=regularizers.L2(0))(y) \n",
        "    y = keras.layers.Dense(8, activation='relu', kernel_regularizer=regularizers.L2(0))(y) \n",
        "    y = keras.layers.Reshape([1, 8])(y)\n",
        "    y = Model(inputs=[user_mlp,stream_mlp,frequency_mlp,user_deg_mlp,channel_deg_mlp], outputs=y)\n",
        "\n",
        "\n",
        "    #combined https://pyimagesearch.com/2019/02/04/keras-multiple-inputs-and-mixed-data/\n",
        "    combined = tf.keras.layers.Concatenate()([x.output, y.output])\n",
        "    z = Dense(1, kernel_initializer='lecun_uniform')(combined)\n",
        "    z = Activation(\"sigmoid\")(z)\n",
        "  \n",
        "    model = Model(inputs=[[user_gmf,stream_gmf,frequency_gmf,user_deg_gmf,channel_deg_gmf], [user_mlp,stream_mlp,frequency_mlp,user_deg_mlp,channel_deg_mlp]], outputs=z)\n",
        "\n",
        "    model.compile(optimizer='sgd', loss='mse', metrics=[tf.keras.metrics.RootMeanSquaredError()])\n",
        "      #https://www.tensorflow.org/api_docs/python/tf/keras/metrics/RootMeanSquaredError\n",
        "    \n",
        "    return model\n",
        "\n",
        "with tpu_strategy.scope(): # creating the model in the TPUStrategy scope means we will train the model on the TPU\n",
        "  model = ncf()\n",
        "model.summary()\n",
        "#https://colab.research.google.com/notebooks/tpu.ipynb#scrollTo=hJl3vNtJOB-x\n",
        "\n",
        "\n",
        "#from: https://github.com/hexiangnan/neural_collaborative_filtering/blob/4aab159e81c44b062c091bdaed0ab54ac632371f/NeuMF.py#L65\n",
        "    # get_model(num_users, num_items, mf_dim=10, layers=[10], reg_layers=[0], reg_mf=0):\n",
        "    # MLP_Embedding_User = Embedding(input_dim = num_users, output_dim = layers[0]/2, name = \"mlp_embedding_user\",\n",
        "    #                               init = init_normal, W_regularizer = l2(reg_layers[0]), input_length=1)\n",
        "    # MLP_Embedding_Item = Embedding(input_dim = num_items, output_dim = layers[0]/2, name = 'mlp_embedding_item',\n",
        "    #                               init = init_normal, W_regularizer = l2(reg_layers[0]), input_length=1)   \n",
        "    # for idx in xrange(1, num_layer):\n",
        "    #     layer = Dense(layers[idx], W_regularizer= l2(reg_layers[idx]), activation='relu', name=\"layer%d\" %idx)\n",
        "    #     mlp_vector = layer(mlp_vector)\n",
        "    #skipping regularization due to compatibility issues\n",
        "#https://github.com/hexiangnan/neural_collaborative_filtering/blob/4aab159e81c44b062c091bdaed0ab54ac632371f/NeuMF.py#L15\n",
        "    # user_input = Input(shape=(1,), dtype='int32', name = 'user_input')\n",
        "    # item_input = Input(shape=(1,), dtype='int32', name = 'item_input')\n",
        "    \n",
        "    # # Embedding layer\n",
        "    # MF_Embedding_User = Embedding(input_dim = num_users, output_dim = mf_dim, name = 'mf_embedding_user',\n",
        "    #                               init = init_normal, W_regularizer = l2(reg_mf), input_length=1)\n",
        "    # MF_Embedding_Item = Embedding(input_dim = num_items, output_dim = mf_dim, name = 'mf_embedding_item',\n",
        "    #                               init = init_normal, W_regularizer = l2(reg_mf), input_length=1)   \n",
        "\n",
        "    # MLP_Embedding_User = Embedding(input_dim = num_users, output_dim = layers[0]/2, name = \"mlp_embedding_user\",\n",
        "    #                               init = init_normal, W_regularizer = l2(reg_layers[0]), input_length=1)\n",
        "    # MLP_Embedding_Item = Embedding(input_dim = num_items, output_dim = layers[0]/2, name = 'mlp_embedding_item',\n",
        "    #                               init = init_normal, W_regularizer = l2(reg_layers[0]), input_length=1)   \n",
        "    \n",
        "    # # MF part\n",
        "    # mf_user_latent = Flatten()(MF_Embedding_User(user_input))\n",
        "    # mf_item_latent = Flatten()(MF_Embedding_Item(item_input))\n",
        "    # mf_vector = merge([mf_user_latent, mf_item_latent], mode = 'mul') # element-wise multiply\n",
        "\n",
        "    # # MLP part \n",
        "    # mlp_user_latent = Flatten()(MLP_Embedding_User(user_input))\n",
        "    # mlp_item_latent = Flatten()(MLP_Embedding_Item(item_input))\n",
        "    # mlp_vector = merge([mlp_user_latent, mlp_item_latent], mode = 'concat')\n",
        "    # for idx in xrange(1, num_layer):\n",
        "    #     layer = Dense(layers[idx], W_regularizer= l2(reg_layers[idx]), activation='relu', name=\"layer%d\" %idx)\n",
        "    #     mlp_vector = layer(mlp_vector)\n",
        "\n",
        "    # # Concatenate MF and MLP parts\n",
        "    # #mf_vector = Lambda(lambda x: x * alpha)(mf_vector)\n",
        "    # #mlp_vector = Lambda(lambda x : x * (1-alpha))(mlp_vector)\n",
        "    # predict_vector = merge([mf_vector, mlp_vector], mode = 'concat')\n",
        "    \n",
        "    # # Final prediction layer\n",
        "    # prediction = Dense(1, activation='sigmoid', init='lecun_uniform', name = \"prediction\")(predict_vector)\n",
        "    \n",
        "    # model = Model(input=[user_input, item_input], output=prediction)\n"
      ],
      "metadata": {
        "colab": {
          "base_uri": "https://localhost:8080/"
        },
        "id": "jSIdbCkdjkVX",
        "outputId": "93383fe7-d690-48b9-bfd7-c586470147b0"
      },
      "execution_count": 15,
      "outputs": [
        {
          "output_type": "stream",
          "name": "stdout",
          "text": [
            "Model: \"model_5\"\n",
            "__________________________________________________________________________________________________\n",
            " Layer (type)                   Output Shape         Param #     Connected to                     \n",
            "==================================================================================================\n",
            " u_in_mlp (InputLayer)          [(None, 1)]          0           []                               \n",
            "                                                                                                  \n",
            " s_in_mlp (InputLayer)          [(None, 1)]          0           []                               \n",
            "                                                                                                  \n",
            " f_in_mlp (InputLayer)          [(None, 1)]          0           []                               \n",
            "                                                                                                  \n",
            " ud_in_mlp (InputLayer)         [(None, 1)]          0           []                               \n",
            "                                                                                                  \n",
            " cd_in_mlp (InputLayer)         [(None, 1)]          0           []                               \n",
            "                                                                                                  \n",
            " u_emb_mlp (Embedding)          (None, 1, 8)         799176      ['u_in_mlp[0][0]']               \n",
            "                                                                                                  \n",
            " s_emb_mlp (Embedding)          (None, 1, 8)         1264936     ['s_in_mlp[0][0]']               \n",
            "                                                                                                  \n",
            " f_emb_mlp (Embedding)          (None, 1, 8)         799176      ['f_in_mlp[0][0]']               \n",
            "                                                                                                  \n",
            " ud_emb_mlp (Embedding)         (None, 1, 8)         799176      ['ud_in_mlp[0][0]']              \n",
            "                                                                                                  \n",
            " cd_emb_mlp (Embedding)         (None, 1, 8)         799176      ['cd_in_mlp[0][0]']              \n",
            "                                                                                                  \n",
            " concatenate_2 (Concatenate)    (None, 1, 40)        0           ['u_emb_mlp[0][0]',              \n",
            "                                                                  's_emb_mlp[0][0]',              \n",
            "                                                                  'f_emb_mlp[0][0]',              \n",
            "                                                                  'ud_emb_mlp[0][0]',             \n",
            "                                                                  'cd_emb_mlp[0][0]']             \n",
            "                                                                                                  \n",
            " flatten_1 (Flatten)            (None, 40)           0           ['concatenate_2[0][0]']          \n",
            "                                                                                                  \n",
            " dense_9 (Dense)                (None, 64)           2624        ['flatten_1[0][0]']              \n",
            "                                                                                                  \n",
            " dense_10 (Dense)               (None, 32)           2080        ['dense_9[0][0]']                \n",
            "                                                                                                  \n",
            " u_in_gmf (InputLayer)          [(None, 1)]          0           []                               \n",
            "                                                                                                  \n",
            " s_in_gmf (InputLayer)          [(None, 1)]          0           []                               \n",
            "                                                                                                  \n",
            " f_in_gmf (InputLayer)          [(None, 1)]          0           []                               \n",
            "                                                                                                  \n",
            " ud_in_gmf (InputLayer)         [(None, 1)]          0           []                               \n",
            "                                                                                                  \n",
            " cd_in_gmf (InputLayer)         [(None, 1)]          0           []                               \n",
            "                                                                                                  \n",
            " dense_11 (Dense)               (None, 16)           528         ['dense_10[0][0]']               \n",
            "                                                                                                  \n",
            " u_emb_gmf (Embedding)          (None, 1, 8)         799176      ['u_in_gmf[0][0]']               \n",
            "                                                                                                  \n",
            " s_emb_gmf (Embedding)          (None, 1, 8)         1264936     ['s_in_gmf[0][0]']               \n",
            "                                                                                                  \n",
            " f_emb_gmf (Embedding)          (None, 1, 8)         799176      ['f_in_gmf[0][0]']               \n",
            "                                                                                                  \n",
            " ud_emb_gmf (Embedding)         (None, 1, 8)         799176      ['ud_in_gmf[0][0]']              \n",
            "                                                                                                  \n",
            " cd_emb_gmf (Embedding)         (None, 1, 8)         799176      ['cd_in_gmf[0][0]']              \n",
            "                                                                                                  \n",
            " dense_12 (Dense)               (None, 8)            136         ['dense_11[0][0]']               \n",
            "                                                                                                  \n",
            " multiply_1 (Multiply)          (None, 1, 8)         0           ['u_emb_gmf[0][0]',              \n",
            "                                                                  's_emb_gmf[0][0]',              \n",
            "                                                                  'f_emb_gmf[0][0]',              \n",
            "                                                                  'ud_emb_gmf[0][0]',             \n",
            "                                                                  'cd_emb_gmf[0][0]']             \n",
            "                                                                                                  \n",
            " reshape_1 (Reshape)            (None, 1, 8)         0           ['dense_12[0][0]']               \n",
            "                                                                                                  \n",
            " concatenate_3 (Concatenate)    (None, 1, 16)        0           ['multiply_1[0][0]',             \n",
            "                                                                  'reshape_1[0][0]']              \n",
            "                                                                                                  \n",
            " dense_13 (Dense)               (None, 1, 1)         17          ['concatenate_3[0][0]']          \n",
            "                                                                                                  \n",
            " activation_1 (Activation)      (None, 1, 1)         0           ['dense_13[0][0]']               \n",
            "                                                                                                  \n",
            "==================================================================================================\n",
            "Total params: 8,928,665\n",
            "Trainable params: 8,928,665\n",
            "Non-trainable params: 0\n",
            "__________________________________________________________________________________________________\n"
          ]
        }
      ]
    },
    {
      "cell_type": "code",
      "source": [
        "# Model training\n",
        "batch_size = 10000\n",
        "history = model.fit(\n",
        "    x=[X_train_array,X_train_array],\n",
        "    y=[y_train,y_train],\n",
        "    batch_size=batch_size,\n",
        "    epochs=20,\n",
        "    verbose=1,\n",
        "    validation_data=([X_val_array, X_val_array], [y_val, y_val])\n",
        ")\n",
        "\n",
        "model.save_weights('NCF_with_meta.h5')"
      ],
      "metadata": {
        "colab": {
          "base_uri": "https://localhost:8080/"
        },
        "id": "7YnLr5gYkN_d",
        "outputId": "a4858c38-e49f-4d71-f476-5475d62f4900"
      },
      "execution_count": 16,
      "outputs": [
        {
          "output_type": "stream",
          "name": "stdout",
          "text": [
            "Epoch 1/20\n",
            "142/142 [==============================] - 24s 83ms/step - loss: 0.0812 - root_mean_squared_error: 0.2849 - val_loss: 0.0566 - val_root_mean_squared_error: 0.2379\n",
            "Epoch 2/20\n",
            "142/142 [==============================] - 6s 43ms/step - loss: 0.0406 - root_mean_squared_error: 0.2015 - val_loss: 0.0281 - val_root_mean_squared_error: 0.1676\n",
            "Epoch 3/20\n",
            "142/142 [==============================] - 6s 43ms/step - loss: 0.0205 - root_mean_squared_error: 0.1433 - val_loss: 0.0147 - val_root_mean_squared_error: 0.1213\n",
            "Epoch 4/20\n",
            "142/142 [==============================] - 6s 43ms/step - loss: 0.0115 - root_mean_squared_error: 0.1073 - val_loss: 0.0089 - val_root_mean_squared_error: 0.0942\n",
            "Epoch 5/20\n",
            "142/142 [==============================] - 6s 43ms/step - loss: 0.0076 - root_mean_squared_error: 0.0874 - val_loss: 0.0064 - val_root_mean_squared_error: 0.0799\n",
            "Epoch 6/20\n",
            "142/142 [==============================] - 6s 43ms/step - loss: 0.0060 - root_mean_squared_error: 0.0773 - val_loss: 0.0053 - val_root_mean_squared_error: 0.0728\n",
            "Epoch 7/20\n",
            "142/142 [==============================] - 6s 43ms/step - loss: 0.0053 - root_mean_squared_error: 0.0726 - val_loss: 0.0048 - val_root_mean_squared_error: 0.0694\n",
            "Epoch 8/20\n",
            "142/142 [==============================] - 6s 44ms/step - loss: 0.0049 - root_mean_squared_error: 0.0703 - val_loss: 0.0046 - val_root_mean_squared_error: 0.0678\n",
            "Epoch 9/20\n",
            "142/142 [==============================] - 6s 44ms/step - loss: 0.0048 - root_mean_squared_error: 0.0693 - val_loss: 0.0045 - val_root_mean_squared_error: 0.0670\n",
            "Epoch 10/20\n",
            "142/142 [==============================] - 6s 43ms/step - loss: 0.0047 - root_mean_squared_error: 0.0689 - val_loss: 0.0044 - val_root_mean_squared_error: 0.0666\n",
            "Epoch 11/20\n",
            "142/142 [==============================] - 6s 43ms/step - loss: 0.0047 - root_mean_squared_error: 0.0686 - val_loss: 0.0044 - val_root_mean_squared_error: 0.0664\n",
            "Epoch 12/20\n",
            "142/142 [==============================] - 6s 43ms/step - loss: 0.0047 - root_mean_squared_error: 0.0685 - val_loss: 0.0044 - val_root_mean_squared_error: 0.0663\n",
            "Epoch 13/20\n",
            "142/142 [==============================] - 6s 43ms/step - loss: 0.0047 - root_mean_squared_error: 0.0685 - val_loss: 0.0044 - val_root_mean_squared_error: 0.0663\n",
            "Epoch 14/20\n",
            "142/142 [==============================] - 6s 44ms/step - loss: 0.0047 - root_mean_squared_error: 0.0684 - val_loss: 0.0044 - val_root_mean_squared_error: 0.0663\n",
            "Epoch 15/20\n",
            "142/142 [==============================] - 6s 43ms/step - loss: 0.0047 - root_mean_squared_error: 0.0684 - val_loss: 0.0044 - val_root_mean_squared_error: 0.0662\n",
            "Epoch 16/20\n",
            "142/142 [==============================] - 7s 46ms/step - loss: 0.0047 - root_mean_squared_error: 0.0684 - val_loss: 0.0044 - val_root_mean_squared_error: 0.0662\n",
            "Epoch 17/20\n",
            "142/142 [==============================] - 6s 43ms/step - loss: 0.0047 - root_mean_squared_error: 0.0684 - val_loss: 0.0044 - val_root_mean_squared_error: 0.0662\n",
            "Epoch 18/20\n",
            "142/142 [==============================] - 6s 43ms/step - loss: 0.0047 - root_mean_squared_error: 0.0684 - val_loss: 0.0044 - val_root_mean_squared_error: 0.0662\n",
            "Epoch 19/20\n",
            "142/142 [==============================] - 6s 43ms/step - loss: 0.0047 - root_mean_squared_error: 0.0684 - val_loss: 0.0044 - val_root_mean_squared_error: 0.0662\n",
            "Epoch 20/20\n",
            "142/142 [==============================] - 6s 43ms/step - loss: 0.0047 - root_mean_squared_error: 0.0684 - val_loss: 0.0044 - val_root_mean_squared_error: 0.0662\n"
          ]
        }
      ]
    },
    {
      "cell_type": "code",
      "source": [
        "pred_input = [test_in_u, test_in_s, test_in_f, test_in_ud, test_in_cd]\n",
        "test_pred = model.predict_on_batch([pred_input,pred_input])\n",
        "test_pred\n"
      ],
      "metadata": {
        "colab": {
          "base_uri": "https://localhost:8080/"
        },
        "id": "65Kch9KnhYM_",
        "outputId": "8e4df082-24a2-4af6-dbe5-67900fbb968f"
      },
      "execution_count": 17,
      "outputs": [
        {
          "output_type": "execute_result",
          "data": {
            "text/plain": [
              "array([[[0.17261925]],\n",
              "\n",
              "       [[0.17214444]],\n",
              "\n",
              "       [[0.1726628 ]],\n",
              "\n",
              "       ...,\n",
              "\n",
              "       [[0.17086515]],\n",
              "\n",
              "       [[0.17005232]],\n",
              "\n",
              "       [[0.1721786 ]]], dtype=float32)"
            ]
          },
          "metadata": {},
          "execution_count": 17
        }
      ]
    },
    {
      "cell_type": "code",
      "source": [
        "import matplotlib.pyplot as plt\n",
        "%matplotlib inline\n",
        "\n",
        "plt.plot(history.history[\"loss\"][0:-2])\n",
        "plt.plot(history.history[\"root_mean_squared_error\"][0:-2])\n",
        "plt.title(\"MSE Loss, RMSE\")\n",
        "plt.ylabel(\"Loss\")\n",
        "plt.xlabel(\"epoch\")\n",
        "plt.legend([\"MSE Loss\", \"RMSE\"], loc=\"center\")\n",
        "plt.show()"
      ],
      "metadata": {
        "colab": {
          "base_uri": "https://localhost:8080/",
          "height": 295
        },
        "id": "gTDWZNG3n1Ef",
        "outputId": "d03a7231-e729-47bf-cc72-ddd40166f142"
      },
      "execution_count": 18,
      "outputs": [
        {
          "output_type": "display_data",
          "data": {
            "text/plain": [
              "<Figure size 432x288 with 1 Axes>"
            ],
            "image/png": "[encoded data removed]"
          },
          "metadata": {
            "needs_background": "light"
          }
        }
      ]
    },
    {
      "cell_type": "code",
      "source": [
        "final_RMSE = (history.history['root_mean_squared_error'])[-1]\n",
        "final_RMSE"
      ],
      "metadata": {
        "colab": {
          "base_uri": "https://localhost:8080/"
        },
        "id": "-w3iQ28com6X",
        "outputId": "37d271a0-2354-4c40-9ed8-16bc0b6951f7"
      },
      "execution_count": 19,
      "outputs": [
        {
          "output_type": "execute_result",
          "data": {
            "text/plain": [
              "0.06843103468418121"
            ]
          },
          "metadata": {},
          "execution_count": 19
        }
      ]
    },
    {
      "cell_type": "code",
      "source": [
        "#https://stackoverflow.com/questions/17197492/is-there-a-library-function-for-root-mean-square-error-rmse-in-python\n",
        "from sklearn.metrics import mean_squared_error\n",
        "\n",
        "#rms = mean_squared_error(y_actual, y_predicted, squared=False)\n",
        "rms = mean_squared_error(test_rating.to_numpy(), test_pred.reshape((len(test_pred),)), squared=False)\n",
        "rms\n",
        "#no regulizar 0.2753604126884709\n",
        "#with regulizer 0.2750856447278888\n",
        "#with meta normalization 0.27519455599609355\n"
      ],
      "metadata": {
        "id": "4TxmTEtQq7ko",
        "colab": {
          "base_uri": "https://localhost:8080/"
        },
        "outputId": "44031b59-f512-4551-e515-5965300db0c1"
      },
      "execution_count": 21,
      "outputs": [
        {
          "output_type": "execute_result",
          "data": {
            "text/plain": [
              "0.2753622530236181"
            ]
          },
          "metadata": {},
          "execution_count": 21
        }
      ]
    }
  ]
}