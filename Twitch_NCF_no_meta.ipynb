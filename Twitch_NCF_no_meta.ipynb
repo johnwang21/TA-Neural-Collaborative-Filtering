{
  "nbformat": 4,
  "nbformat_minor": 0,
  "metadata": {
    "colab": {
      "provenance": [],
      "machine_shape": "hm"
    },
    "kernelspec": {
      "name": "python3",
      "display_name": "Python 3"
    },
    "language_info": {
      "name": "python"
    },
    "accelerator": "TPU",
    "gpuClass": "standard"
  },
  "cells": [
    {
      "cell_type": "code",
      "source": [
        "#https://github.com/keras-team/keras/releases\n",
        "!pip install q keras==2.11.0"
      ],
      "metadata": {
        "colab": {
          "base_uri": "https://localhost:8080/"
        },
        "id": "oLv3QOzh9Sh6",
        "outputId": "405ca030-687b-4048-c5ff-28815c974a19"
      },
      "execution_count": 1,
      "outputs": [
        {
          "output_type": "stream",
          "name": "stdout",
          "text": [
            "Looking in indexes: https://pypi.org/simple, https://us-python.pkg.dev/colab-wheels/public/simple/\n",
            "Collecting q\n",
            "  Downloading q-2.7-py2.py3-none-any.whl (10 kB)\n",
            "Requirement already satisfied: keras==2.11.0 in /usr/local/lib/python3.9/dist-packages (2.11.0)\n",
            "Installing collected packages: q\n",
            "Successfully installed q-2.7\n"
          ]
        }
      ]
    },
    {
      "cell_type": "code",
      "source": [
        "import pandas as pd\n",
        "import numpy as np\n",
        "from tqdm.notebook import tqdm\n",
        "from sklearn.model_selection import train_test_split\n",
        "import keras\n",
        "from keras import layers \n",
        "import tensorflow as tf\n",
        "from keras.models import Model\n",
        "from keras.optimizers import Adam, SGD"
      ],
      "metadata": {
        "id": "0riOOnaIIPyL"
      },
      "execution_count": 2,
      "outputs": []
    },
    {
      "cell_type": "code",
      "source": [
        "print(\"Tensorflow version \" + tf.__version__)\n",
        "np.random.seed(123)\n",
        "try:\n",
        "  tpu = tf.distribute.cluster_resolver.TPUClusterResolver()  # TPU detection\n",
        "  print('Running on TPU ', tpu.cluster_spec().as_dict()['worker'])\n",
        "except ValueError:\n",
        "  raise BaseException('ERROR: Not connected to a TPU runtime; please see the previous cell in this notebook for instructions!')\n",
        "\n",
        "tf.config.experimental_connect_to_cluster(tpu)\n",
        "tf.tpu.experimental.initialize_tpu_system(tpu)\n",
        "tpu_strategy = tf.distribute.experimental.TPUStrategy(tpu)"
      ],
      "metadata": {
        "colab": {
          "base_uri": "https://localhost:8080/"
        },
        "id": "1K3YPwY9YD5V",
        "outputId": "6f8a8b95-a569-4b1c-eb65-631eb59d4da8"
      },
      "execution_count": 3,
      "outputs": [
        {
          "output_type": "stream",
          "name": "stdout",
          "text": [
            "Tensorflow version 2.11.0\n",
            "Running on TPU  ['10.56.122.82:8470']\n"
          ]
        },
        {
          "output_type": "stream",
          "name": "stderr",
          "text": [
            "WARNING:absl:`tf.distribute.experimental.TPUStrategy` is deprecated, please use  the non experimental symbol `tf.distribute.TPUStrategy` instead.\n"
          ]
        }
      ]
    },
    {
      "cell_type": "code",
      "source": [
        "# Prototype retrofitted with real training and test data\n",
        "\n",
        "rating_df = pd.read_csv('meta_train.csv')\n",
        "rating_df = rating_df.rename(columns={'User':'u_id','ChannelName':'s_id','z_score_scaled':'rate'})\n",
        "rating_df.head()\n",
        "\n",
        "test_df = pd.read_csv('meta_test.csv')\n",
        "test_df = test_df.rename(columns={'User':'u_id','ChannelName':'s_id','z_score_scaled':'rate'})\n",
        "test_df.head()"
      ],
      "metadata": {
        "colab": {
          "base_uri": "https://localhost:8080/",
          "height": 206
        },
        "id": "d7sw3eHgIQ7t",
        "outputId": "2317bd36-9a3e-4903-8b3d-207eb315494f"
      },
      "execution_count": 4,
      "outputs": [
        {
          "output_type": "execute_result",
          "data": {
            "text/plain": [
              "   Unnamed: 0   u_id     s_id      rate  Frequency  User_Deg  Channel_Deg\n",
              "0           0      1  unlostv  0.170049          2        19          347\n",
              "1           1   9090  unlostv  0.166778          3        36          347\n",
              "2           2   9532  unlostv  0.136420          1        14          347\n",
              "3           3  10260  unlostv  0.118027          1         4          347\n",
              "4           4  11666  unlostv  0.119496          1        17          347"
            ],
            "text/html": [
              "\n",
              "  <div id=\"df-bec6df92-c6f3-42dd-8668-7f903165d6e5\">\n",
              "    <div class=\"colab-df-container\">\n",
              "      <div>\n",
              "<style scoped>\n",
              "    .dataframe tbody tr th:only-of-type {\n",
              "        vertical-align: middle;\n",
              "    }\n",
              "\n",
              "    .dataframe tbody tr th {\n",
              "        vertical-align: top;\n",
              "    }\n",
              "\n",
              "    .dataframe thead th {\n",
              "        text-align: right;\n",
              "    }\n",
              "</style>\n",
              "<table border=\"1\" class=\"dataframe\">\n",
              "  <thead>\n",
              "    <tr style=\"text-align: right;\">\n",
              "      <th></th>\n",
              "      <th>Unnamed: 0</th>\n",
              "      <th>u_id</th>\n",
              "      <th>s_id</th>\n",
              "      <th>rate</th>\n",
              "      <th>Frequency</th>\n",
              "      <th>User_Deg</th>\n",
              "      <th>Channel_Deg</th>\n",
              "    </tr>\n",
              "  </thead>\n",
              "  <tbody>\n",
              "    <tr>\n",
              "      <th>0</th>\n",
              "      <td>0</td>\n",
              "      <td>1</td>\n",
              "      <td>unlostv</td>\n",
              "      <td>0.170049</td>\n",
              "      <td>2</td>\n",
              "      <td>19</td>\n",
              "      <td>347</td>\n",
              "    </tr>\n",
              "    <tr>\n",
              "      <th>1</th>\n",
              "      <td>1</td>\n",
              "      <td>9090</td>\n",
              "      <td>unlostv</td>\n",
              "      <td>0.166778</td>\n",
              "      <td>3</td>\n",
              "      <td>36</td>\n",
              "      <td>347</td>\n",
              "    </tr>\n",
              "    <tr>\n",
              "      <th>2</th>\n",
              "      <td>2</td>\n",
              "      <td>9532</td>\n",
              "      <td>unlostv</td>\n",
              "      <td>0.136420</td>\n",
              "      <td>1</td>\n",
              "      <td>14</td>\n",
              "      <td>347</td>\n",
              "    </tr>\n",
              "    <tr>\n",
              "      <th>3</th>\n",
              "      <td>3</td>\n",
              "      <td>10260</td>\n",
              "      <td>unlostv</td>\n",
              "      <td>0.118027</td>\n",
              "      <td>1</td>\n",
              "      <td>4</td>\n",
              "      <td>347</td>\n",
              "    </tr>\n",
              "    <tr>\n",
              "      <th>4</th>\n",
              "      <td>4</td>\n",
              "      <td>11666</td>\n",
              "      <td>unlostv</td>\n",
              "      <td>0.119496</td>\n",
              "      <td>1</td>\n",
              "      <td>17</td>\n",
              "      <td>347</td>\n",
              "    </tr>\n",
              "  </tbody>\n",
              "</table>\n",
              "</div>\n",
              "      <button class=\"colab-df-convert\" onclick=\"convertToInteractive('df-bec6df92-c6f3-42dd-8668-7f903165d6e5')\"\n",
              "              title=\"Convert this dataframe to an interactive table.\"\n",
              "              style=\"display:none;\">\n",
              "        \n",
              "  <svg xmlns=\"http://www.w3.org/2000/svg\" height=\"24px\"viewBox=\"0 0 24 24\"\n",
              "       width=\"24px\">\n",
              "    <path d=\"M0 0h24v24H0V0z\" fill=\"none\"/>\n",
              "    <path d=\"M18.56 5.44l.94 2.06.94-2.06 2.06-.94-2.06-.94-.94-2.06-.94 2.06-2.06.94zm-11 1L8.5 8.5l.94-2.06 2.06-.94-2.06-.94L8.5 2.5l-.94 2.06-2.06.94zm10 10l.94 2.06.94-2.06 2.06-.94-2.06-.94-.94-2.06-.94 2.06-2.06.94z\"/><path d=\"M17.41 7.96l-1.37-1.37c-.4-.4-.92-.59-1.43-.59-.52 0-1.04.2-1.43.59L10.3 9.45l-7.72 7.72c-.78.78-.78 2.05 0 2.83L4 21.41c.39.39.9.59 1.41.59.51 0 1.02-.2 1.41-.59l7.78-7.78 2.81-2.81c.8-.78.8-2.07 0-2.86zM5.41 20L4 18.59l7.72-7.72 1.47 1.35L5.41 20z\"/>\n",
              "  </svg>\n",
              "      </button>\n",
              "      \n",
              "  <style>\n",
              "    .colab-df-container {\n",
              "      display:flex;\n",
              "      flex-wrap:wrap;\n",
              "      gap: 12px;\n",
              "    }\n",
              "\n",
              "    .colab-df-convert {\n",
              "      background-color: #E8F0FE;\n",
              "      border: none;\n",
              "      border-radius: 50%;\n",
              "      cursor: pointer;\n",
              "      display: none;\n",
              "      fill: #1967D2;\n",
              "      height: 32px;\n",
              "      padding: 0 0 0 0;\n",
              "      width: 32px;\n",
              "    }\n",
              "\n",
              "    .colab-df-convert:hover {\n",
              "      background-color: #E2EBFA;\n",
              "      box-shadow: 0px 1px 2px rgba(60, 64, 67, 0.3), 0px 1px 3px 1px rgba(60, 64, 67, 0.15);\n",
              "      fill: #174EA6;\n",
              "    }\n",
              "\n",
              "    [theme=dark] .colab-df-convert {\n",
              "      background-color: #3B4455;\n",
              "      fill: #D2E3FC;\n",
              "    }\n",
              "\n",
              "    [theme=dark] .colab-df-convert:hover {\n",
              "      background-color: #434B5C;\n",
              "      box-shadow: 0px 1px 3px 1px rgba(0, 0, 0, 0.15);\n",
              "      filter: drop-shadow(0px 1px 2px rgba(0, 0, 0, 0.3));\n",
              "      fill: #FFFFFF;\n",
              "    }\n",
              "  </style>\n",
              "\n",
              "      <script>\n",
              "        const buttonEl =\n",
              "          document.querySelector('#df-bec6df92-c6f3-42dd-8668-7f903165d6e5 button.colab-df-convert');\n",
              "        buttonEl.style.display =\n",
              "          google.colab.kernel.accessAllowed ? 'block' : 'none';\n",
              "\n",
              "        async function convertToInteractive(key) {\n",
              "          const element = document.querySelector('#df-bec6df92-c6f3-42dd-8668-7f903165d6e5');\n",
              "          const dataTable =\n",
              "            await google.colab.kernel.invokeFunction('convertToInteractive',\n",
              "                                                     [key], {});\n",
              "          if (!dataTable) return;\n",
              "\n",
              "          const docLinkHtml = 'Like what you see? Visit the ' +\n",
              "            '<a target=\"_blank\" href=https://colab.research.google.com/notebooks/data_table.ipynb>data table notebook</a>'\n",
              "            + ' to learn more about interactive tables.';\n",
              "          element.innerHTML = '';\n",
              "          dataTable['output_type'] = 'display_data';\n",
              "          await google.colab.output.renderOutput(dataTable, element);\n",
              "          const docLink = document.createElement('div');\n",
              "          docLink.innerHTML = docLinkHtml;\n",
              "          element.appendChild(docLink);\n",
              "        }\n",
              "      </script>\n",
              "    </div>\n",
              "  </div>\n",
              "  "
            ]
          },
          "metadata": {},
          "execution_count": 4
        }
      ]
    },
    {
      "cell_type": "code",
      "source": [
        "rating_df.dtypes"
      ],
      "metadata": {
        "colab": {
          "base_uri": "https://localhost:8080/"
        },
        "id": "STQ1RBiSR3tb",
        "outputId": "d955a3d5-e9af-4543-e3f2-3dd2413e5f16"
      },
      "execution_count": 5,
      "outputs": [
        {
          "output_type": "execute_result",
          "data": {
            "text/plain": [
              "Unnamed: 0       int64\n",
              "u_id             int64\n",
              "s_id            object\n",
              "rate           float64\n",
              "Frequency        int64\n",
              "User_Deg         int64\n",
              "Channel_Deg      int64\n",
              "dtype: object"
            ]
          },
          "metadata": {},
          "execution_count": 5
        }
      ]
    },
    {
      "cell_type": "code",
      "source": [
        "# model requires a seed\n",
        "rating_df = rating_df.sample(frac=1, random_state=73)\n",
        "rating_df.s_id = pd.Categorical(rating_df.s_id)\n",
        "rating_df['s_id'] = rating_df.s_id.cat.codes\n",
        "rating_df.dtypes\n",
        "X = rating_df[['u_id', 's_id']].values #,'Frequency','User_Deg','Channel_Deg'\n",
        "y = rating_df[\"rate\"]\n",
        "\n",
        "test_df = test_df.sample(frac=1, random_state=73)\n",
        "test_df.s_id = pd.Categorical(test_df.s_id)\n",
        "test_df['s_id'] = test_df.s_id.cat.codes\n",
        "test_df.dtypes\n",
        "test_in_u = test_df['u_id'].values #,'Frequency','User_Deg','Channel_Deg'\n",
        "test_in_s = test_df['s_id'].values\n",
        "test_rating = test_df[\"rate\"]"
      ],
      "metadata": {
        "id": "SL4Bs9o6iTuZ"
      },
      "execution_count": 6,
      "outputs": []
    },
    {
      "cell_type": "code",
      "source": [
        "# training validation set lifted from https://www.kaggle.com/code/chaitanya99/recommendation-system-cf-anime\n",
        "test_set_size = 10000 #10k for test set\n",
        "train_indices = rating_df.shape[0] - test_set_size \n",
        "\n",
        "X_train, X_val, y_train, y_val = (\n",
        "    X[:train_indices],\n",
        "    X[train_indices:],\n",
        "    y[:train_indices],\n",
        "    y[train_indices:],\n",
        ")\n",
        "\n",
        "print('> Train set ratings: {}'.format(len(y_train)))\n",
        "print('> Test set ratings: {}'.format(len(y_val)))"
      ],
      "metadata": {
        "id": "x0qKtQswiWyZ",
        "outputId": "f8813d56-fcc7-4bd9-d535-bdbe830db867",
        "colab": {
          "base_uri": "https://localhost:8080/"
        }
      },
      "execution_count": 7,
      "outputs": [
        {
          "output_type": "stream",
          "name": "stdout",
          "text": [
            "> Train set ratings: 1419900\n",
            "> Test set ratings: 10000\n"
          ]
        }
      ]
    },
    {
      "cell_type": "code",
      "source": [
        "X_train_array = [X_train[:, 0], X_train[:, 1]]\n",
        "X_val_array = [X_val[:, 0], X_val[:, 1]]"
      ],
      "metadata": {
        "id": "QyGHTM4NiYpx"
      },
      "execution_count": 8,
      "outputs": []
    },
    {
      "cell_type": "code",
      "source": [
        "#from: https://github.com/hexiangnan/neural_collaborative_filtering/blob/4aab159e81c44b062c091bdaed0ab54ac632371f/NeuMF.py#L158\n",
        "in_u_dim = len(rating_df[\"u_id\"].unique())\n",
        "in_s_dim = len(rating_df[\"s_id\"].unique())\n",
        " \n",
        "latent_out_dim = 8 #embedding size\n",
        "\n",
        "# Embedding(input_dim = num_items\n",
        "# num_users, num_items = train.shape\n",
        "# output_dim = mf_dim\n",
        "# mf = 10"
      ],
      "metadata": {
        "id": "YXucb6SOx8Dp"
      },
      "execution_count": 9,
      "outputs": []
    },
    {
      "cell_type": "code",
      "source": [
        "# Embedding layers\n",
        "from keras.layers import Add, Activation, Lambda, BatchNormalization, Concatenate, Dropout, Input, Embedding, Dot, Reshape, Dense, Flatten\n",
        "\n",
        "def ncf():\n",
        "    \n",
        "    user_gmf = Input(name = 'u_in_gmf', shape = [1])\n",
        "    stream_gmf = Input(name = 's_in_gmf', shape = [1])\n",
        "\n",
        "    user_embedding_gmf = Embedding(name = 'u_emb_gmf', input_dim = in_u_dim, output_dim = latent_out_dim)(user_gmf)\n",
        "    stream_embedding_gmf = Embedding(name = 's_emb_gmf', input_dim = in_s_dim, output_dim = latent_out_dim)(stream_gmf)\n",
        "    \n",
        "    x = tf.keras.layers.Multiply()([user_embedding_gmf, stream_embedding_gmf])\n",
        "    x = Model(inputs=[user_gmf,stream_gmf], outputs=x)\n",
        "\n",
        "\n",
        "    user_mlp = Input(name = 'u_in_mlp', shape = [1])\n",
        "    stream_mlp = Input(name = 's_in_mlp', shape = [1])\n",
        "\n",
        "    user_embedding_mlp = Embedding(name = 'u_emb_mlp', input_dim = in_u_dim,output_dim = latent_out_dim)(user_mlp)\n",
        "    stream_embedding_mlp = Embedding(name = 's_emb_mlp', input_dim = in_s_dim, output_dim = latent_out_dim)(stream_mlp)\n",
        "\n",
        "    y = tf.keras.layers.Concatenate()([user_embedding_mlp, stream_embedding_mlp])\n",
        "    y = Flatten()(y)\n",
        "\n",
        "    y = keras.layers.Dense(1, activation='relu')(y) \n",
        "    y = keras.layers.Dense(2, activation='relu')(y) \n",
        "    y = keras.layers.Dense(3, activation='relu')(y) \n",
        "    y = keras.layers.Dense(4, activation='relu')(y) \n",
        "    y = keras.layers.Dense(5, activation='relu')(y) \n",
        "    y = keras.layers.Dense(6, activation='relu')(y) \n",
        "    y = keras.layers.Dense(7, activation='relu')(y) \n",
        "    y = keras.layers.Dense(8, activation='relu')(y) \n",
        "    y = keras.layers.Reshape([1, 8])(y)\n",
        "    y = Model(inputs=[user_mlp,stream_mlp], outputs=y)\n",
        "\n",
        "\n",
        "    #combined https://pyimagesearch.com/2019/02/04/keras-multiple-inputs-and-mixed-data/\n",
        "    combined = tf.keras.layers.Concatenate()([x.output, y.output])\n",
        "    z = Dense(1, kernel_initializer='lecun_uniform')(combined)\n",
        "    z = Activation(\"sigmoid\")(z)\n",
        "  \n",
        "    model = Model(inputs=[[user_gmf,stream_gmf], [user_mlp,stream_mlp]], outputs=z)\n",
        "\n",
        "    model.compile(optimizer='sgd', loss='mse', metrics=[tf.keras.metrics.RootMeanSquaredError()])\n",
        "      #https://www.tensorflow.org/api_docs/python/tf/keras/metrics/RootMeanSquaredError\n",
        "    \n",
        "    return model\n",
        "\n",
        "with tpu_strategy.scope(): # creating the model in the TPUStrategy scope means we will train the model on the TPU\n",
        "  model = ncf()\n",
        "model.summary()\n",
        "#https://colab.research.google.com/notebooks/tpu.ipynb#scrollTo=hJl3vNtJOB-x\n",
        "\n",
        "\n",
        "#from: https://github.com/hexiangnan/neural_collaborative_filtering/blob/4aab159e81c44b062c091bdaed0ab54ac632371f/NeuMF.py#L65\n",
        "    # get_model(num_users, num_items, mf_dim=10, layers=[10], reg_layers=[0], reg_mf=0):\n",
        "    # MLP_Embedding_User = Embedding(input_dim = num_users, output_dim = layers[0]/2, name = \"mlp_embedding_user\",\n",
        "    #                               init = init_normal, W_regularizer = l2(reg_layers[0]), input_length=1)\n",
        "    # MLP_Embedding_Item = Embedding(input_dim = num_items, output_dim = layers[0]/2, name = 'mlp_embedding_item',\n",
        "    #                               init = init_normal, W_regularizer = l2(reg_layers[0]), input_length=1)   \n",
        "    # for idx in xrange(1, num_layer):\n",
        "    #     layer = Dense(layers[idx], W_regularizer= l2(reg_layers[idx]), activation='relu', name=\"layer%d\" %idx)\n",
        "    #     mlp_vector = layer(mlp_vector)\n",
        "    #skipping regularization due to compatibility issues\n",
        "#https://github.com/hexiangnan/neural_collaborative_filtering/blob/4aab159e81c44b062c091bdaed0ab54ac632371f/NeuMF.py#L15\n",
        "    # user_input = Input(shape=(1,), dtype='int32', name = 'user_input')\n",
        "    # item_input = Input(shape=(1,), dtype='int32', name = 'item_input')\n",
        "    \n",
        "    # # Embedding layer\n",
        "    # MF_Embedding_User = Embedding(input_dim = num_users, output_dim = mf_dim, name = 'mf_embedding_user',\n",
        "    #                               init = init_normal, W_regularizer = l2(reg_mf), input_length=1)\n",
        "    # MF_Embedding_Item = Embedding(input_dim = num_items, output_dim = mf_dim, name = 'mf_embedding_item',\n",
        "    #                               init = init_normal, W_regularizer = l2(reg_mf), input_length=1)   \n",
        "\n",
        "    # MLP_Embedding_User = Embedding(input_dim = num_users, output_dim = layers[0]/2, name = \"mlp_embedding_user\",\n",
        "    #                               init = init_normal, W_regularizer = l2(reg_layers[0]), input_length=1)\n",
        "    # MLP_Embedding_Item = Embedding(input_dim = num_items, output_dim = layers[0]/2, name = 'mlp_embedding_item',\n",
        "    #                               init = init_normal, W_regularizer = l2(reg_layers[0]), input_length=1)   \n",
        "    \n",
        "    # # MF part\n",
        "    # mf_user_latent = Flatten()(MF_Embedding_User(user_input))\n",
        "    # mf_item_latent = Flatten()(MF_Embedding_Item(item_input))\n",
        "    # mf_vector = merge([mf_user_latent, mf_item_latent], mode = 'mul') # element-wise multiply\n",
        "\n",
        "    # # MLP part \n",
        "    # mlp_user_latent = Flatten()(MLP_Embedding_User(user_input))\n",
        "    # mlp_item_latent = Flatten()(MLP_Embedding_Item(item_input))\n",
        "    # mlp_vector = merge([mlp_user_latent, mlp_item_latent], mode = 'concat')\n",
        "    # for idx in xrange(1, num_layer):\n",
        "    #     layer = Dense(layers[idx], W_regularizer= l2(reg_layers[idx]), activation='relu', name=\"layer%d\" %idx)\n",
        "    #     mlp_vector = layer(mlp_vector)\n",
        "\n",
        "    # # Concatenate MF and MLP parts\n",
        "    # #mf_vector = Lambda(lambda x: x * alpha)(mf_vector)\n",
        "    # #mlp_vector = Lambda(lambda x : x * (1-alpha))(mlp_vector)\n",
        "    # predict_vector = merge([mf_vector, mlp_vector], mode = 'concat')\n",
        "    \n",
        "    # # Final prediction layer\n",
        "    # prediction = Dense(1, activation='sigmoid', init='lecun_uniform', name = \"prediction\")(predict_vector)\n",
        "    \n",
        "    # model = Model(input=[user_input, item_input], output=prediction)\n"
      ],
      "metadata": {
        "colab": {
          "base_uri": "https://localhost:8080/"
        },
        "id": "jSIdbCkdjkVX",
        "outputId": "f8ae90b2-feb3-4521-d8a5-a918da6ebfeb"
      },
      "execution_count": 10,
      "outputs": [
        {
          "output_type": "stream",
          "name": "stdout",
          "text": [
            "Model: \"model_2\"\n",
            "__________________________________________________________________________________________________\n",
            " Layer (type)                   Output Shape         Param #     Connected to                     \n",
            "==================================================================================================\n",
            " u_in_mlp (InputLayer)          [(None, 1)]          0           []                               \n",
            "                                                                                                  \n",
            " s_in_mlp (InputLayer)          [(None, 1)]          0           []                               \n",
            "                                                                                                  \n",
            " u_emb_mlp (Embedding)          (None, 1, 8)         799176      ['u_in_mlp[0][0]']               \n",
            "                                                                                                  \n",
            " s_emb_mlp (Embedding)          (None, 1, 8)         1264936     ['s_in_mlp[0][0]']               \n",
            "                                                                                                  \n",
            " concatenate (Concatenate)      (None, 1, 16)        0           ['u_emb_mlp[0][0]',              \n",
            "                                                                  's_emb_mlp[0][0]']              \n",
            "                                                                                                  \n",
            " flatten (Flatten)              (None, 16)           0           ['concatenate[0][0]']            \n",
            "                                                                                                  \n",
            " dense (Dense)                  (None, 1)            17          ['flatten[0][0]']                \n",
            "                                                                                                  \n",
            " dense_1 (Dense)                (None, 2)            4           ['dense[0][0]']                  \n",
            "                                                                                                  \n",
            " dense_2 (Dense)                (None, 3)            9           ['dense_1[0][0]']                \n",
            "                                                                                                  \n",
            " dense_3 (Dense)                (None, 4)            16          ['dense_2[0][0]']                \n",
            "                                                                                                  \n",
            " dense_4 (Dense)                (None, 5)            25          ['dense_3[0][0]']                \n",
            "                                                                                                  \n",
            " dense_5 (Dense)                (None, 6)            36          ['dense_4[0][0]']                \n",
            "                                                                                                  \n",
            " u_in_gmf (InputLayer)          [(None, 1)]          0           []                               \n",
            "                                                                                                  \n",
            " s_in_gmf (InputLayer)          [(None, 1)]          0           []                               \n",
            "                                                                                                  \n",
            " dense_6 (Dense)                (None, 7)            49          ['dense_5[0][0]']                \n",
            "                                                                                                  \n",
            " u_emb_gmf (Embedding)          (None, 1, 8)         799176      ['u_in_gmf[0][0]']               \n",
            "                                                                                                  \n",
            " s_emb_gmf (Embedding)          (None, 1, 8)         1264936     ['s_in_gmf[0][0]']               \n",
            "                                                                                                  \n",
            " dense_7 (Dense)                (None, 8)            64          ['dense_6[0][0]']                \n",
            "                                                                                                  \n",
            " multiply (Multiply)            (None, 1, 8)         0           ['u_emb_gmf[0][0]',              \n",
            "                                                                  's_emb_gmf[0][0]']              \n",
            "                                                                                                  \n",
            " reshape (Reshape)              (None, 1, 8)         0           ['dense_7[0][0]']                \n",
            "                                                                                                  \n",
            " concatenate_1 (Concatenate)    (None, 1, 16)        0           ['multiply[0][0]',               \n",
            "                                                                  'reshape[0][0]']                \n",
            "                                                                                                  \n",
            " dense_8 (Dense)                (None, 1, 1)         17          ['concatenate_1[0][0]']          \n",
            "                                                                                                  \n",
            " activation (Activation)        (None, 1, 1)         0           ['dense_8[0][0]']                \n",
            "                                                                                                  \n",
            "==================================================================================================\n",
            "Total params: 4,128,461\n",
            "Trainable params: 4,128,461\n",
            "Non-trainable params: 0\n",
            "__________________________________________________________________________________________________\n"
          ]
        }
      ]
    },
    {
      "cell_type": "code",
      "source": [
        "# Model training\n",
        "batch_size = 10000\n",
        "history = model.fit(\n",
        "    x=[X_train_array,X_train_array],\n",
        "    y=[y_train,y_train],\n",
        "    batch_size=batch_size,\n",
        "    epochs=20,\n",
        "    verbose=1,\n",
        "    validation_data=([X_val_array, X_val_array], [y_val, y_val])\n",
        ")\n",
        "\n",
        "model.save_weights('NCF_no_meta.h5')"
      ],
      "metadata": {
        "colab": {
          "base_uri": "https://localhost:8080/"
        },
        "id": "7YnLr5gYkN_d",
        "outputId": "f48ee407-dc89-4a92-f055-616c9bcc2caf"
      },
      "execution_count": 11,
      "outputs": [
        {
          "output_type": "stream",
          "name": "stdout",
          "text": [
            "Epoch 1/20\n",
            "142/142 [==============================] - 30s 115ms/step - loss: 0.0894 - root_mean_squared_error: 0.2990 - val_loss: 0.0698 - val_root_mean_squared_error: 0.2642\n",
            "Epoch 2/20\n",
            "142/142 [==============================] - 6s 45ms/step - loss: 0.0549 - root_mean_squared_error: 0.2344 - val_loss: 0.0425 - val_root_mean_squared_error: 0.2062\n",
            "Epoch 3/20\n",
            "142/142 [==============================] - 6s 45ms/step - loss: 0.0333 - root_mean_squared_error: 0.1824 - val_loss: 0.0256 - val_root_mean_squared_error: 0.1600\n",
            "Epoch 4/20\n",
            "142/142 [==============================] - 7s 47ms/step - loss: 0.0202 - root_mean_squared_error: 0.1421 - val_loss: 0.0157 - val_root_mean_squared_error: 0.1253\n",
            "Epoch 5/20\n",
            "142/142 [==============================] - 7s 47ms/step - loss: 0.0128 - root_mean_squared_error: 0.1131 - val_loss: 0.0103 - val_root_mean_squared_error: 0.1013\n",
            "Epoch 6/20\n",
            "142/142 [==============================] - 7s 46ms/step - loss: 0.0088 - root_mean_squared_error: 0.0940 - val_loss: 0.0074 - val_root_mean_squared_error: 0.0862\n",
            "Epoch 7/20\n",
            "142/142 [==============================] - 6s 46ms/step - loss: 0.0068 - root_mean_squared_error: 0.0824 - val_loss: 0.0059 - val_root_mean_squared_error: 0.0771\n",
            "Epoch 8/20\n",
            "142/142 [==============================] - 7s 46ms/step - loss: 0.0058 - root_mean_squared_error: 0.0758 - val_loss: 0.0052 - val_root_mean_squared_error: 0.0721\n",
            "Epoch 9/20\n",
            "142/142 [==============================] - 6s 45ms/step - loss: 0.0052 - root_mean_squared_error: 0.0723 - val_loss: 0.0048 - val_root_mean_squared_error: 0.0694\n",
            "Epoch 10/20\n",
            "142/142 [==============================] - 6s 45ms/step - loss: 0.0050 - root_mean_squared_error: 0.0704 - val_loss: 0.0046 - val_root_mean_squared_error: 0.0679\n",
            "Epoch 11/20\n",
            "142/142 [==============================] - 6s 45ms/step - loss: 0.0048 - root_mean_squared_error: 0.0695 - val_loss: 0.0045 - val_root_mean_squared_error: 0.0672\n",
            "Epoch 12/20\n",
            "142/142 [==============================] - 6s 45ms/step - loss: 0.0048 - root_mean_squared_error: 0.0690 - val_loss: 0.0045 - val_root_mean_squared_error: 0.0667\n",
            "Epoch 13/20\n",
            "142/142 [==============================] - 6s 45ms/step - loss: 0.0047 - root_mean_squared_error: 0.0687 - val_loss: 0.0044 - val_root_mean_squared_error: 0.0665\n",
            "Epoch 14/20\n",
            "142/142 [==============================] - 6s 45ms/step - loss: 0.0047 - root_mean_squared_error: 0.0686 - val_loss: 0.0044 - val_root_mean_squared_error: 0.0664\n",
            "Epoch 15/20\n",
            "142/142 [==============================] - 6s 45ms/step - loss: 0.0047 - root_mean_squared_error: 0.0685 - val_loss: 0.0044 - val_root_mean_squared_error: 0.0663\n",
            "Epoch 16/20\n",
            "142/142 [==============================] - 6s 46ms/step - loss: 0.0047 - root_mean_squared_error: 0.0685 - val_loss: 0.0044 - val_root_mean_squared_error: 0.0663\n",
            "Epoch 17/20\n",
            "142/142 [==============================] - 7s 46ms/step - loss: 0.0047 - root_mean_squared_error: 0.0685 - val_loss: 0.0044 - val_root_mean_squared_error: 0.0663\n",
            "Epoch 18/20\n",
            "142/142 [==============================] - 6s 45ms/step - loss: 0.0047 - root_mean_squared_error: 0.0685 - val_loss: 0.0044 - val_root_mean_squared_error: 0.0662\n",
            "Epoch 19/20\n",
            "142/142 [==============================] - 6s 45ms/step - loss: 0.0047 - root_mean_squared_error: 0.0685 - val_loss: 0.0044 - val_root_mean_squared_error: 0.0662\n",
            "Epoch 20/20\n",
            "142/142 [==============================] - 6s 46ms/step - loss: 0.0047 - root_mean_squared_error: 0.0684 - val_loss: 0.0044 - val_root_mean_squared_error: 0.0662\n"
          ]
        }
      ]
    },
    {
      "cell_type": "code",
      "source": [
        "test_pred = model.predict_on_batch([[test_in_u, test_in_s],[test_in_u, test_in_s]])\n",
        "test_pred\n"
      ],
      "metadata": {
        "colab": {
          "base_uri": "https://localhost:8080/"
        },
        "id": "65Kch9KnhYM_",
        "outputId": "b7c48f6c-76c3-4065-cb8e-c292f71c029b"
      },
      "execution_count": 12,
      "outputs": [
        {
          "output_type": "execute_result",
          "data": {
            "text/plain": [
              "array([[[0.1740523 ]],\n",
              "\n",
              "       [[0.17211437]],\n",
              "\n",
              "       [[0.17251626]],\n",
              "\n",
              "       ...,\n",
              "\n",
              "       [[0.17171651]],\n",
              "\n",
              "       [[0.17102697]],\n",
              "\n",
              "       [[0.17586064]]], dtype=float32)"
            ]
          },
          "metadata": {},
          "execution_count": 12
        }
      ]
    },
    {
      "cell_type": "code",
      "source": [
        "import matplotlib.pyplot as plt\n",
        "%matplotlib inline\n",
        "\n",
        "plt.plot(history.history[\"loss\"][0:-2])\n",
        "plt.plot(history.history[\"root_mean_squared_error\"][0:-2])\n",
        "plt.title(\"MSE Loss, RMSE\")\n",
        "plt.ylabel(\"Loss\")\n",
        "plt.xlabel(\"epoch\")\n",
        "plt.legend([\"MSE Loss\", \"RMSE\"], loc=\"center\")\n",
        "plt.show()"
      ],
      "metadata": {
        "colab": {
          "base_uri": "https://localhost:8080/",
          "height": 295
        },
        "id": "gTDWZNG3n1Ef",
        "outputId": "01daf29d-c05b-43c9-95df-118f31da08d1"
      },
      "execution_count": 13,
      "outputs": [
        {
          "output_type": "display_data",
          "data": {
            "text/plain": [
              "<Figure size 432x288 with 1 Axes>"
            ],
            "image/png": "[encoded data removed]"
          },
          "metadata": {
            "needs_background": "light"
          }
        }
      ]
    },
    {
      "cell_type": "code",
      "source": [
        "final_RMSE = (history.history['root_mean_squared_error'])[-1]\n",
        "final_RMSE"
      ],
      "metadata": {
        "colab": {
          "base_uri": "https://localhost:8080/"
        },
        "id": "-w3iQ28com6X",
        "outputId": "c423c8ac-1a82-44df-b593-c6012e6a4e90"
      },
      "execution_count": 14,
      "outputs": [
        {
          "output_type": "execute_result",
          "data": {
            "text/plain": [
              "0.06844744086265564"
            ]
          },
          "metadata": {},
          "execution_count": 14
        }
      ]
    },
    {
      "cell_type": "code",
      "source": [
        "#https://stackoverflow.com/questions/17197492/is-there-a-library-function-for-root-mean-square-error-rmse-in-python\n",
        "from sklearn.metrics import mean_squared_error\n",
        "\n",
        "#rms = mean_squared_error(y_actual, y_predicted, squared=False)\n",
        "rms = mean_squared_error(test_rating.to_numpy(), test_pred.reshape((len(test_pred),)), squared=False)\n",
        "rms"
      ],
      "metadata": {
        "id": "4TxmTEtQq7ko",
        "colab": {
          "base_uri": "https://localhost:8080/"
        },
        "outputId": "8a23be06-0587-4e33-8d53-dfced3b5b679"
      },
      "execution_count": 15,
      "outputs": [
        {
          "output_type": "execute_result",
          "data": {
            "text/plain": [
              "0.2753437437464267"
            ]
          },
          "metadata": {},
          "execution_count": 15
        }
      ]
    }
  ]
}